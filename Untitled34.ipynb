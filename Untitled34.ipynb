{
  "nbformat": 4,
  "nbformat_minor": 0,
  "metadata": {
    "colab": {
      "name": "Untitled34.ipynb",
      "provenance": [],
      "collapsed_sections": [],
      "authorship_tag": "ABX9TyP+A3QRgdvuo//ujdOSptMz",
      "include_colab_link": true
    },
    "kernelspec": {
      "name": "python3",
      "display_name": "Python 3"
    }
  },
  "cells": [
    {
      "cell_type": "markdown",
      "metadata": {
        "id": "view-in-github",
        "colab_type": "text"
      },
      "source": [
        "<a href=\"https://colab.research.google.com/github/lekhana262/assignment-6-module5-chap1-/blob/master/Untitled34.ipynb\" target=\"_parent\"><img src=\"https://colab.research.google.com/assets/colab-badge.svg\" alt=\"Open In Colab\"/></a>"
      ]
    },
    {
      "cell_type": "code",
      "metadata": {
        "id": "Phyl2FiCTdTr",
        "colab_type": "code",
        "colab": {
          "base_uri": "https://localhost:8080/",
          "height": 34
        },
        "outputId": "e2b7f1b1-27d1-46d6-95ac-a90485063561"
      },
      "source": [
        "#python program to sum all the items in a dictionary\n",
        "my_dict = {'data1':230,'data2':12,'data3':41}\n",
        "print(sum(my_dict.values()))\n"
      ],
      "execution_count": null,
      "outputs": [
        {
          "output_type": "stream",
          "text": [
            "283\n"
          ],
          "name": "stdout"
        }
      ]
    },
    {
      "cell_type": "code",
      "metadata": {
        "id": "sEwoL9xJUfJR",
        "colab_type": "code",
        "colab": {
          "base_uri": "https://localhost:8080/",
          "height": 34
        },
        "outputId": "a1910c06-c1f7-44fa-f418-4754deee9eb1"
      },
      "source": [
        "#python program to demonstrate accessing an element from a dictionary\n",
        "num = {'physics':80,'math':90,'chemistry':86,'biology':71}\n",
        "print(list(num)[1])"
      ],
      "execution_count": null,
      "outputs": [
        {
          "output_type": "stream",
          "text": [
            "math\n"
          ],
          "name": "stdout"
        }
      ]
    },
    {
      "cell_type": "code",
      "metadata": {
        "id": "cOkGKLZbVtmx",
        "colab_type": "code",
        "colab": {
          "base_uri": "https://localhost:8080/",
          "height": 34
        },
        "outputId": "bfcec88e-3091-4fa4-d5a4-6bf09d1ec8fc"
      },
      "source": [
        "#python program to concate two dictionary\n",
        "dict1={1:23,2:4}\n",
        "dict2={3:12,4:8}\n",
        "dict3={5:50,6:10}\n",
        "dict4={}\n",
        "for d in (dict1,dict2,dict3):dict4.update(d)\n",
        "print(dict4)"
      ],
      "execution_count": null,
      "outputs": [
        {
          "output_type": "stream",
          "text": [
            "{1: 23, 2: 4, 3: 12, 4: 8, 5: 50, 6: 10}\n"
          ],
          "name": "stdout"
        }
      ]
    },
    {
      "cell_type": "code",
      "metadata": {
        "id": "Ly9y6ODSXTjQ",
        "colab_type": "code",
        "colab": {
          "base_uri": "https://localhost:8080/",
          "height": 50
        },
        "outputId": "9976e450-3fe4-40c3-f5fa-bea91b5c465e"
      },
      "source": [
        "#python program to add keys/values in a dictionary(update dictionary)\n",
        "dict = {'key1':'python','key2':'for'}\n",
        "print(\"current dict is:\",dict)\n",
        "dict['key3'] = 'python'\n",
        "dict['key4'] = 'is'\n",
        "dict['key5'] = 'tough'\n",
        "dict['key6'] = 'program'\n",
        "print(\"update dict is:\",dict)\n"
      ],
      "execution_count": null,
      "outputs": [
        {
          "output_type": "stream",
          "text": [
            "current dict is: {'key1': 'python', 'key2': 'for'}\n",
            "update dict is: {'key1': 'python', 'key2': 'for', 'key3': 'python', 'key4': 'is', 'key5': 'tough', 'key6': 'program'}\n"
          ],
          "name": "stdout"
        }
      ]
    },
    {
      "cell_type": "code",
      "metadata": {
        "id": "OvQ2G-AWYKLZ",
        "colab_type": "code",
        "colab": {
          "base_uri": "https://localhost:8080/",
          "height": 34
        },
        "outputId": "4c3c0ed5-1f27-4371-9218-552ae32e0a54"
      },
      "source": [
        "#python program to find the length of a dictionary in python\n",
        "dict = {'name': 'gitam','year':1};\n",
        "print (\"length : %d\" % len(dict)) "
      ],
      "execution_count": null,
      "outputs": [
        {
          "output_type": "stream",
          "text": [
            "length : 2\n"
          ],
          "name": "stdout"
        }
      ]
    },
    {
      "cell_type": "code",
      "metadata": {
        "id": "iWructdVZrYG",
        "colab_type": "code",
        "colab": {
          "base_uri": "https://localhost:8080/",
          "height": 50
        },
        "outputId": "8e58d127-9ec5-4a6b-c3df-809d3732c169"
      },
      "source": [
        "#python program to remove items from the dictionary in python\n",
        "mydict = {'a':1,'b':2,'c':3,'d':4}\n",
        "print(mydict)\n",
        "if 'a' in mydict:\n",
        "  del mydict['a']\n",
        "print(mydict)"
      ],
      "execution_count": null,
      "outputs": [
        {
          "output_type": "stream",
          "text": [
            "{'a': 1, 'b': 2, 'c': 3, 'd': 4}\n",
            "{'b': 2, 'c': 3, 'd': 4}\n"
          ],
          "name": "stdout"
        }
      ]
    }
  ]
}